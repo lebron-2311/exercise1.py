{
 "cells": [
  {
   "cell_type": "code",
   "execution_count": 1,
   "outputs": [
    {
     "name": "stdout",
     "output_type": "stream",
     "text": [
      "2.13.0\n",
      "tf.Tensor(2.0, shape=(), dtype=float32)\n",
      "2.0\n"
     ]
    }
   ],
   "source": [
    "import tensorflow as tf\n",
    "\n",
    "#1.13版本中开启eager模式后就不需要启动session\n",
    "print(tf.__version__)\n",
    "x = tf.constant(0.)\n",
    "y = tf.constant(1.)\n",
    "for iteration in range(50):\n",
    "    x=x+y\n",
    "    y=y/2\n",
    "print(x)\n",
    "print(x.numpy())"
   ],
   "metadata": {
    "collapsed": false,
    "pycharm": {
     "name": "#%%\n"
    }
   }
  },
  {
   "cell_type": "code",
   "execution_count": 4,
   "metadata": {
    "collapsed": true
   },
   "outputs": [
    {
     "name": "stdout",
     "output_type": "stream",
     "text": [
      "tf.Tensor(5.0, shape=(), dtype=float32)\n"
     ]
    }
   ],
   "source": [
    "#没有使用eager模式，就必须使用session\n",
    "x = tf.constant(2.)\n",
    "y = tf.constant(3.)\n",
    "sum1=tf.add(x,y)\n",
    "print(sum1)\n"
   ]
  },
  {
   "cell_type": "code",
   "execution_count": null,
   "outputs": [],
   "source": [
    "import tensorflow as tf\n",
    "\n",
    "print(tf.__version__)  #查看tf的版本\n",
    "x = tf.constant(0.)    #常量 张量\n",
    "y = tf.constant(1.)\n",
    "print('-'*50)\n",
    "for iteration in range(50):\n",
    "    x=x+y\n",
    "    y=y/2\n",
    "print(x.numpy())\n"
   ],
   "metadata": {
    "collapsed": false,
    "pycharm": {
     "name": "#%%\n"
    }
   }
  }
 ],
 "metadata": {
  "kernelspec": {
   "display_name": "Python 3",
   "language": "python",
   "name": "python3"
  },
  "language_info": {
   "codemirror_mode": {
    "name": "ipython",
    "version": 2
   },
   "file_extension": ".py",
   "mimetype": "text/x-python",
   "name": "python",
   "nbconvert_exporter": "python",
   "pygments_lexer": "ipython2",
   "version": "2.7.6"
  }
 },
 "nbformat": 4,
 "nbformat_minor": 0
}